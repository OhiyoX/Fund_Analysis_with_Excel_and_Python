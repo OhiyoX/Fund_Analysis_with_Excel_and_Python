{
 "cells": [
  {
   "cell_type": "code",
   "execution_count": 65,
   "metadata": {},
   "outputs": [
    {
     "data": {
      "text/html": [
       "<div>\n",
       "<style scoped>\n",
       "    .dataframe tbody tr th:only-of-type {\n",
       "        vertical-align: middle;\n",
       "    }\n",
       "\n",
       "    .dataframe tbody tr th {\n",
       "        vertical-align: top;\n",
       "    }\n",
       "\n",
       "    .dataframe thead th {\n",
       "        text-align: right;\n",
       "    }\n",
       "</style>\n",
       "<table border=\"1\" class=\"dataframe\">\n",
       "  <thead>\n",
       "    <tr style=\"text-align: right;\">\n",
       "      <th></th>\n",
       "      <th>基金代码</th>\n",
       "      <th>开始日期</th>\n",
       "      <th>结束日期</th>\n",
       "    </tr>\n",
       "  </thead>\n",
       "  <tbody>\n",
       "    <tr>\n",
       "      <th>0</th>\n",
       "      <td>165523</td>\n",
       "      <td>2020-01-01</td>\n",
       "      <td></td>\n",
       "    </tr>\n",
       "    <tr>\n",
       "      <th>1</th>\n",
       "      <td>004812</td>\n",
       "      <td>2020-01-01</td>\n",
       "      <td></td>\n",
       "    </tr>\n",
       "    <tr>\n",
       "      <th>2</th>\n",
       "      <td>160224</td>\n",
       "      <td>2020-01-01</td>\n",
       "      <td></td>\n",
       "    </tr>\n",
       "    <tr>\n",
       "      <th>3</th>\n",
       "      <td>003095</td>\n",
       "      <td>2020-01-01</td>\n",
       "      <td></td>\n",
       "    </tr>\n",
       "    <tr>\n",
       "      <th>4</th>\n",
       "      <td>000977</td>\n",
       "      <td>2020-01-01</td>\n",
       "      <td></td>\n",
       "    </tr>\n",
       "    <tr>\n",
       "      <th>5</th>\n",
       "      <td>161726</td>\n",
       "      <td>2020-01-01</td>\n",
       "      <td></td>\n",
       "    </tr>\n",
       "    <tr>\n",
       "      <th>6</th>\n",
       "      <td>090013</td>\n",
       "      <td>2020-01-01</td>\n",
       "      <td></td>\n",
       "    </tr>\n",
       "    <tr>\n",
       "      <th>7</th>\n",
       "      <td>163114</td>\n",
       "      <td>2020-01-01</td>\n",
       "      <td></td>\n",
       "    </tr>\n",
       "  </tbody>\n",
       "</table>\n",
       "</div>"
      ],
      "text/plain": [
       "     基金代码        开始日期 结束日期\n",
       "0  165523  2020-01-01     \n",
       "1  004812  2020-01-01     \n",
       "2  160224  2020-01-01     \n",
       "3  003095  2020-01-01     \n",
       "4  000977  2020-01-01     \n",
       "5  161726  2020-01-01     \n",
       "6  090013  2020-01-01     \n",
       "7  163114  2020-01-01     "
      ]
     },
     "execution_count": 65,
     "metadata": {},
     "output_type": "execute_result"
    }
   ],
   "source": [
    "import pandas as pd\n",
    "with open('Fund-List.csv', encoding=\"UTF-8\") as f_list:\n",
    "    list = pd.read_csv(f_list,dtype={\"基金代码\":str})\n",
    "list = list.fillna(\"\")\n",
    "list"
   ]
  },
  {
   "cell_type": "code",
   "execution_count": 66,
   "metadata": {},
   "outputs": [
    {
     "data": {
      "text/plain": [
       "'004812'"
      ]
     },
     "execution_count": 66,
     "metadata": {},
     "output_type": "execute_result"
    }
   ],
   "source": [
    "list.iat[1,0]"
   ]
  },
  {
   "cell_type": "code",
   "execution_count": 67,
   "metadata": {},
   "outputs": [
    {
     "data": {
      "text/plain": [
       "[['165523', '2020-01-01', ''],\n",
       " ['004812', '2020-01-01', ''],\n",
       " ['160224', '2020-01-01', ''],\n",
       " ['003095', '2020-01-01', ''],\n",
       " ['000977', '2020-01-01', ''],\n",
       " ['161726', '2020-01-01', ''],\n",
       " ['090013', '2020-01-01', ''],\n",
       " ['163114', '2020-01-01', '']]"
      ]
     },
     "execution_count": 67,
     "metadata": {},
     "output_type": "execute_result"
    }
   ],
   "source": [
    "funds_list = []\n",
    "fund = []\n",
    "for i in range(len(list)):\n",
    "    fund.append(list.iat[i,0])\n",
    "    fund.append(list.iat[i,1])\n",
    "    fund.append(str(list.iat[i,2]))\n",
    "    funds_list.append(fund)\n",
    "    fund = []\n",
    "funds_list"
   ]
  },
  {
   "cell_type": "code",
   "execution_count": 69,
   "metadata": {},
   "outputs": [
    {
     "name": "stdout",
     "output_type": "stream",
     "text": [
      "<class 'str'>\n",
      "True\n"
     ]
    }
   ],
   "source": [
    "if funds_list[1][2]==\"\":\n",
    "    print(type(funds_list[1][2]))\n",
    "    print(True)\n",
    "else:\n",
    "    print(False)"
   ]
  },
  {
   "cell_type": "code",
   "execution_count": 72,
   "metadata": {},
   "outputs": [
    {
     "data": {
      "text/html": [
       "<div>\n",
       "<style scoped>\n",
       "    .dataframe tbody tr th:only-of-type {\n",
       "        vertical-align: middle;\n",
       "    }\n",
       "\n",
       "    .dataframe tbody tr th {\n",
       "        vertical-align: top;\n",
       "    }\n",
       "\n",
       "    .dataframe thead th {\n",
       "        text-align: right;\n",
       "    }\n",
       "</style>\n",
       "<table border=\"1\" class=\"dataframe\">\n",
       "  <thead>\n",
       "    <tr style=\"text-align: right;\">\n",
       "      <th></th>\n",
       "      <th>DATE</th>\n",
       "      <th>165523</th>\n",
       "      <th>004812</th>\n",
       "      <th>160224</th>\n",
       "      <th>003095</th>\n",
       "      <th>000977</th>\n",
       "      <th>161726</th>\n",
       "      <th>090013</th>\n",
       "      <th>163114</th>\n",
       "    </tr>\n",
       "  </thead>\n",
       "  <tbody>\n",
       "    <tr>\n",
       "      <th>0</th>\n",
       "      <td>2020-10-28</td>\n",
       "      <td>0.965</td>\n",
       "      <td>2.0954</td>\n",
       "      <td>0.9338</td>\n",
       "      <td>3.081</td>\n",
       "      <td>2.3058</td>\n",
       "      <td>0.9602</td>\n",
       "      <td>1.244</td>\n",
       "      <td>1.0096</td>\n",
       "    </tr>\n",
       "    <tr>\n",
       "      <th>1</th>\n",
       "      <td>2020-10-29</td>\n",
       "      <td>0.957</td>\n",
       "      <td>2.1090</td>\n",
       "      <td>0.9320</td>\n",
       "      <td>3.145</td>\n",
       "      <td>2.3137</td>\n",
       "      <td>0.9960</td>\n",
       "      <td>1.252</td>\n",
       "      <td>1.0123</td>\n",
       "    </tr>\n",
       "    <tr>\n",
       "      <th>2</th>\n",
       "      <td>2020-10-30</td>\n",
       "      <td>0.946</td>\n",
       "      <td>2.1128</td>\n",
       "      <td>0.9220</td>\n",
       "      <td>3.093</td>\n",
       "      <td>2.2794</td>\n",
       "      <td>0.9806</td>\n",
       "      <td>1.237</td>\n",
       "      <td>0.9974</td>\n",
       "    </tr>\n",
       "    <tr>\n",
       "      <th>3</th>\n",
       "      <td>2020-11-02</td>\n",
       "      <td>0.934</td>\n",
       "      <td>2.1850</td>\n",
       "      <td>0.9324</td>\n",
       "      <td>3.095</td>\n",
       "      <td>2.3154</td>\n",
       "      <td>0.9643</td>\n",
       "      <td>1.248</td>\n",
       "      <td>1.0193</td>\n",
       "    </tr>\n",
       "    <tr>\n",
       "      <th>4</th>\n",
       "      <td>2020-11-03</td>\n",
       "      <td>0.958</td>\n",
       "      <td>2.1611</td>\n",
       "      <td>0.9416</td>\n",
       "      <td>3.118</td>\n",
       "      <td>2.3154</td>\n",
       "      <td>0.9750</td>\n",
       "      <td>1.266</td>\n",
       "      <td>1.0259</td>\n",
       "    </tr>\n",
       "    <tr>\n",
       "      <th>5</th>\n",
       "      <td>2020-11-04</td>\n",
       "      <td>0.953</td>\n",
       "      <td>2.1699</td>\n",
       "      <td>0.9443</td>\n",
       "      <td>3.144</td>\n",
       "      <td>2.3281</td>\n",
       "      <td>0.9767</td>\n",
       "      <td>1.272</td>\n",
       "      <td>1.0182</td>\n",
       "    </tr>\n",
       "    <tr>\n",
       "      <th>6</th>\n",
       "      <td>2020-11-05</td>\n",
       "      <td>0.972</td>\n",
       "      <td>2.2581</td>\n",
       "      <td>0.9647</td>\n",
       "      <td>3.140</td>\n",
       "      <td>2.3525</td>\n",
       "      <td>0.9756</td>\n",
       "      <td>1.285</td>\n",
       "      <td>1.0491</td>\n",
       "    </tr>\n",
       "    <tr>\n",
       "      <th>7</th>\n",
       "      <td>2020-11-06</td>\n",
       "      <td>0.970</td>\n",
       "      <td>2.2252</td>\n",
       "      <td>0.9674</td>\n",
       "      <td>3.069</td>\n",
       "      <td>2.3202</td>\n",
       "      <td>0.9401</td>\n",
       "      <td>1.283</td>\n",
       "      <td>1.0371</td>\n",
       "    </tr>\n",
       "    <tr>\n",
       "      <th>8</th>\n",
       "      <td>2020-11-09</td>\n",
       "      <td>1.005</td>\n",
       "      <td>2.2361</td>\n",
       "      <td>0.9875</td>\n",
       "      <td>3.156</td>\n",
       "      <td>2.3362</td>\n",
       "      <td>0.9574</td>\n",
       "      <td>1.301</td>\n",
       "      <td>1.0515</td>\n",
       "    </tr>\n",
       "    <tr>\n",
       "      <th>9</th>\n",
       "      <td>2020-11-10</td>\n",
       "      <td>0.989</td>\n",
       "      <td>2.2370</td>\n",
       "      <td>0.9753</td>\n",
       "      <td>3.094</td>\n",
       "      <td>2.3238</td>\n",
       "      <td>0.9376</td>\n",
       "      <td>1.303</td>\n",
       "      <td>1.0455</td>\n",
       "    </tr>\n",
       "    <tr>\n",
       "      <th>10</th>\n",
       "      <td>2020-11-11</td>\n",
       "      <td>0.963</td>\n",
       "      <td>2.1807</td>\n",
       "      <td>0.9454</td>\n",
       "      <td>2.992</td>\n",
       "      <td>2.3135</td>\n",
       "      <td>0.9032</td>\n",
       "      <td>1.305</td>\n",
       "      <td>1.0275</td>\n",
       "    </tr>\n",
       "    <tr>\n",
       "      <th>11</th>\n",
       "      <td>2020-11-12</td>\n",
       "      <td>0.961</td>\n",
       "      <td>2.2041</td>\n",
       "      <td>0.9540</td>\n",
       "      <td>3.032</td>\n",
       "      <td>2.3291</td>\n",
       "      <td>0.9113</td>\n",
       "      <td>1.311</td>\n",
       "      <td>1.0311</td>\n",
       "    </tr>\n",
       "  </tbody>\n",
       "</table>\n",
       "</div>"
      ],
      "text/plain": [
       "          DATE  165523  004812  160224  003095  000977  161726  090013  163114\n",
       "0   2020-10-28   0.965  2.0954  0.9338   3.081  2.3058  0.9602   1.244  1.0096\n",
       "1   2020-10-29   0.957  2.1090  0.9320   3.145  2.3137  0.9960   1.252  1.0123\n",
       "2   2020-10-30   0.946  2.1128  0.9220   3.093  2.2794  0.9806   1.237  0.9974\n",
       "3   2020-11-02   0.934  2.1850  0.9324   3.095  2.3154  0.9643   1.248  1.0193\n",
       "4   2020-11-03   0.958  2.1611  0.9416   3.118  2.3154  0.9750   1.266  1.0259\n",
       "5   2020-11-04   0.953  2.1699  0.9443   3.144  2.3281  0.9767   1.272  1.0182\n",
       "6   2020-11-05   0.972  2.2581  0.9647   3.140  2.3525  0.9756   1.285  1.0491\n",
       "7   2020-11-06   0.970  2.2252  0.9674   3.069  2.3202  0.9401   1.283  1.0371\n",
       "8   2020-11-09   1.005  2.2361  0.9875   3.156  2.3362  0.9574   1.301  1.0515\n",
       "9   2020-11-10   0.989  2.2370  0.9753   3.094  2.3238  0.9376   1.303  1.0455\n",
       "10  2020-11-11   0.963  2.1807  0.9454   2.992  2.3135  0.9032   1.305  1.0275\n",
       "11  2020-11-12   0.961  2.2041  0.9540   3.032  2.3291  0.9113   1.311  1.0311"
      ]
     },
     "execution_count": 72,
     "metadata": {},
     "output_type": "execute_result"
    }
   ],
   "source": [
    "df = pd.read_csv(filepath_or_buffer=\"resource/csv/fund-worth-data.csv\",encoding=\"UTF-8\")\n",
    "df"
   ]
  },
  {
   "cell_type": "code",
   "execution_count": 73,
   "metadata": {},
   "outputs": [
    {
     "data": {
      "text/plain": [
       "0     2020-10-28\n",
       "1     2020-10-29\n",
       "2     2020-10-30\n",
       "3     2020-11-02\n",
       "4     2020-11-03\n",
       "5     2020-11-04\n",
       "6     2020-11-05\n",
       "7     2020-11-06\n",
       "8     2020-11-09\n",
       "9     2020-11-10\n",
       "10    2020-11-11\n",
       "11    2020-11-12\n",
       "Name: DATE, dtype: object"
      ]
     },
     "execution_count": 73,
     "metadata": {},
     "output_type": "execute_result"
    }
   ],
   "source": [
    "df['DATE']"
   ]
  },
  {
   "cell_type": "code",
   "execution_count": 74,
   "metadata": {},
   "outputs": [
    {
     "data": {
      "text/plain": [
       "'2020-11-12'"
      ]
     },
     "execution_count": 74,
     "metadata": {},
     "output_type": "execute_result"
    }
   ],
   "source": [
    "max(df['DATE'])"
   ]
  },
  {
   "cell_type": "code",
   "execution_count": 75,
   "metadata": {},
   "outputs": [
    {
     "data": {
      "text/plain": [
       "'2020-10-28'"
      ]
     },
     "execution_count": 75,
     "metadata": {},
     "output_type": "execute_result"
    }
   ],
   "source": [
    "min(df['DATE'])"
   ]
  },
  {
   "cell_type": "code",
   "execution_count": 76,
   "metadata": {},
   "outputs": [
    {
     "data": {
      "text/plain": [
       "True"
      ]
     },
     "execution_count": 76,
     "metadata": {},
     "output_type": "execute_result"
    }
   ],
   "source": [
    "\"2020-11-13\">max(df['DATE'])"
   ]
  },
  {
   "cell_type": "code",
   "execution_count": 100,
   "metadata": {},
   "outputs": [
    {
     "data": {
      "text/plain": [
       "'2020-11-14'"
      ]
     },
     "execution_count": 100,
     "metadata": {},
     "output_type": "execute_result"
    }
   ],
   "source": [
    "seq = {\"2020-11-01\":1,\"2020-11-03\":2,\"2020-11-04\":3,\"2020-11-14\":4}\n",
    "keys = []\n",
    "for key,value in seq.items():\n",
    "    keys.append(key)\n",
    "max(keys)"
   ]
  },
  {
   "cell_type": "code",
   "execution_count": 144,
   "metadata": {},
   "outputs": [
    {
     "data": {
      "text/plain": [
       "[[11, 2, 3], [4, 5, 6]]"
      ]
     },
     "execution_count": 144,
     "metadata": {},
     "output_type": "execute_result"
    }
   ],
   "source": [
    "test = [[1,2,3],[4,5,6]]\n",
    "for t in test:\n",
    "    if t[0]<2:\n",
    "        t[0]= 11\n",
    "test"
   ]
  },
  {
   "cell_type": "code",
   "execution_count": 504,
   "metadata": {},
   "outputs": [
    {
     "data": {
      "text/html": [
       "<div>\n",
       "<style scoped>\n",
       "    .dataframe tbody tr th:only-of-type {\n",
       "        vertical-align: middle;\n",
       "    }\n",
       "\n",
       "    .dataframe tbody tr th {\n",
       "        vertical-align: top;\n",
       "    }\n",
       "\n",
       "    .dataframe thead th {\n",
       "        text-align: right;\n",
       "    }\n",
       "</style>\n",
       "<table border=\"1\" class=\"dataframe\">\n",
       "  <thead>\n",
       "    <tr style=\"text-align: right;\">\n",
       "      <th></th>\n",
       "      <th>a</th>\n",
       "      <th>b</th>\n",
       "    </tr>\n",
       "  </thead>\n",
       "  <tbody>\n",
       "    <tr>\n",
       "      <th>0</th>\n",
       "      <td>2020-10-29</td>\n",
       "      <td>2</td>\n",
       "    </tr>\n",
       "    <tr>\n",
       "      <th>1</th>\n",
       "      <td>2020-11-02</td>\n",
       "      <td>7</td>\n",
       "    </tr>\n",
       "    <tr>\n",
       "      <th>2</th>\n",
       "      <td>2020-10-30</td>\n",
       "      <td>3</td>\n",
       "    </tr>\n",
       "    <tr>\n",
       "      <th>3</th>\n",
       "      <td>2020-11-04</td>\n",
       "      <td>6</td>\n",
       "    </tr>\n",
       "  </tbody>\n",
       "</table>\n",
       "</div>"
      ],
      "text/plain": [
       "            a  b\n",
       "0  2020-10-29  2\n",
       "1  2020-11-02  7\n",
       "2  2020-10-30  3\n",
       "3  2020-11-04  6"
      ]
     },
     "execution_count": 504,
     "metadata": {},
     "output_type": "execute_result"
    }
   ],
   "source": [
    "\n",
    "df = pd.DataFrame([])\n",
    "d= {'a':[\"2020-10-29\",\"2020-11-02\",\"2020-10-30\",\"2020-11-04\"],'b':[2,7,3,6]}\n",
    "df = pd.DataFrame(d)\n",
    "df"
   ]
  },
  {
   "cell_type": "code",
   "execution_count": 505,
   "metadata": {
    "scrolled": true
   },
   "outputs": [
    {
     "data": {
      "text/html": [
       "<div>\n",
       "<style scoped>\n",
       "    .dataframe tbody tr th:only-of-type {\n",
       "        vertical-align: middle;\n",
       "    }\n",
       "\n",
       "    .dataframe tbody tr th {\n",
       "        vertical-align: top;\n",
       "    }\n",
       "\n",
       "    .dataframe thead th {\n",
       "        text-align: right;\n",
       "    }\n",
       "</style>\n",
       "<table border=\"1\" class=\"dataframe\">\n",
       "  <thead>\n",
       "    <tr style=\"text-align: right;\">\n",
       "      <th></th>\n",
       "      <th>a</th>\n",
       "      <th>b</th>\n",
       "      <th>d</th>\n",
       "    </tr>\n",
       "  </thead>\n",
       "  <tbody>\n",
       "    <tr>\n",
       "      <th>0</th>\n",
       "      <td>2020-10-29</td>\n",
       "      <td>2</td>\n",
       "      <td>2020-10-29</td>\n",
       "    </tr>\n",
       "    <tr>\n",
       "      <th>1</th>\n",
       "      <td>2020-11-02</td>\n",
       "      <td>7</td>\n",
       "      <td>2020-10-30</td>\n",
       "    </tr>\n",
       "    <tr>\n",
       "      <th>2</th>\n",
       "      <td>2020-10-30</td>\n",
       "      <td>3</td>\n",
       "      <td>2020-11-02</td>\n",
       "    </tr>\n",
       "    <tr>\n",
       "      <th>3</th>\n",
       "      <td>2020-11-04</td>\n",
       "      <td>6</td>\n",
       "      <td>2020-11-04</td>\n",
       "    </tr>\n",
       "  </tbody>\n",
       "</table>\n",
       "</div>"
      ],
      "text/plain": [
       "            a  b          d\n",
       "0  2020-10-29  2 2020-10-29\n",
       "1  2020-11-02  7 2020-10-30\n",
       "2  2020-10-30  3 2020-11-02\n",
       "3  2020-11-04  6 2020-11-04"
      ]
     },
     "execution_count": 505,
     "metadata": {},
     "output_type": "execute_result"
    }
   ],
   "source": [
    "date = pd.to_datetime(df['a'],format=\"%Y-%m-%d\")\n",
    "date = date.sort_values().tolist()\n",
    "df['d'] = date\n",
    "df = df.sort_values('d')\n",
    "df"
   ]
  },
  {
   "cell_type": "code",
   "execution_count": 501,
   "metadata": {},
   "outputs": [
    {
     "data": {
      "text/html": [
       "<div>\n",
       "<style scoped>\n",
       "    .dataframe tbody tr th:only-of-type {\n",
       "        vertical-align: middle;\n",
       "    }\n",
       "\n",
       "    .dataframe tbody tr th {\n",
       "        vertical-align: top;\n",
       "    }\n",
       "\n",
       "    .dataframe thead th {\n",
       "        text-align: right;\n",
       "    }\n",
       "</style>\n",
       "<table border=\"1\" class=\"dataframe\">\n",
       "  <thead>\n",
       "    <tr style=\"text-align: right;\">\n",
       "      <th></th>\n",
       "      <th>a</th>\n",
       "      <th>b</th>\n",
       "      <th>d</th>\n",
       "    </tr>\n",
       "  </thead>\n",
       "  <tbody>\n",
       "    <tr>\n",
       "      <th>0</th>\n",
       "      <td>2020-10-29</td>\n",
       "      <td>2</td>\n",
       "      <td>2020-10-29</td>\n",
       "    </tr>\n",
       "    <tr>\n",
       "      <th>1</th>\n",
       "      <td>2020-11-02</td>\n",
       "      <td>7</td>\n",
       "      <td>2020-10-30</td>\n",
       "    </tr>\n",
       "    <tr>\n",
       "      <th>2</th>\n",
       "      <td>2020-10-30</td>\n",
       "      <td>3</td>\n",
       "      <td>2020-11-02</td>\n",
       "    </tr>\n",
       "    <tr>\n",
       "      <th>3</th>\n",
       "      <td>2020-11-04</td>\n",
       "      <td>6</td>\n",
       "      <td>2020-11-04</td>\n",
       "    </tr>\n",
       "  </tbody>\n",
       "</table>\n",
       "</div>"
      ],
      "text/plain": [
       "            a  b          d\n",
       "0  2020-10-29  2 2020-10-29\n",
       "1  2020-11-02  7 2020-10-30\n",
       "2  2020-10-30  3 2020-11-02\n",
       "3  2020-11-04  6 2020-11-04"
      ]
     },
     "execution_count": 501,
     "metadata": {},
     "output_type": "execute_result"
    }
   ],
   "source": []
  },
  {
   "cell_type": "code",
   "execution_count": 275,
   "metadata": {},
   "outputs": [
    {
     "data": {
      "text/plain": [
       "{'11': [[24, 2]], '12': [[24, 3]]}"
      ]
     },
     "execution_count": 275,
     "metadata": {},
     "output_type": "execute_result"
    }
   ],
   "source": [
    "fund = {}\n",
    "fund[\"11\"] = [[1,2]]\n",
    "fund[\"12\"] = [[2,3]]\n",
    "for key,value in fund.items():\n",
    "    fund[key][0][0] = 24\n",
    "fund"
   ]
  },
  {
   "cell_type": "code",
   "execution_count": 287,
   "metadata": {},
   "outputs": [
    {
     "data": {
      "text/plain": [
       "True"
      ]
     },
     "execution_count": 287,
     "metadata": {},
     "output_type": "execute_result"
    }
   ],
   "source": [
    "'2020-10-30'<'2020-11-02'"
   ]
  }
 ],
 "metadata": {
  "kernelspec": {
   "display_name": "Python 3",
   "language": "python",
   "name": "python3"
  },
  "language_info": {
   "codemirror_mode": {
    "name": "ipython",
    "version": 3
   },
   "file_extension": ".py",
   "mimetype": "text/x-python",
   "name": "python",
   "nbconvert_exporter": "python",
   "pygments_lexer": "ipython3",
   "version": "3.7.9"
  }
 },
 "nbformat": 4,
 "nbformat_minor": 4
}
